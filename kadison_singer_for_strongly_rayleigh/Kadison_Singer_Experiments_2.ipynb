{
 "cells": [
  {
   "cell_type": "markdown",
   "id": "cc879e8e",
   "metadata": {},
   "source": [
    "<h1><center>Kadison Singer Experiments 2</center></h1>\n",
    "\n",
    "\n",
    "### Contents\n",
    "\n",
    "1. [First Operator Representation](#op1)\n",
    "    1. [Operator acting on different polynomial](#stabpres1)\n",
    "    2. [Partially apply operator](#partially)\n",
    "2. [Second Operator Representation](#op2)\n",
    "    1. [Not equal to Diagonalized Operator](#diag)\n",
    "    2. [Final Polynomial is not real stable](#realstable2)\n",
    "    3. [Equvialence of real rootedness](#equiv)\n",
    "3. [Third Operator Representation](#op3)\n",
    "    1. [Quarter Plane Stability](#quatstab)\n",
    "    \n",
    "    "
   ]
  },
  {
   "cell_type": "code",
   "execution_count": 1,
   "id": "4053c0af",
   "metadata": {},
   "outputs": [
    {
     "data": {
      "text/plain": [
       "poly_operator_poly (generic function with 1 method)"
      ]
     },
     "execution_count": 1,
     "metadata": {},
     "output_type": "execute_result"
    }
   ],
   "source": [
    "include(\"../polyfunctions.jl\")"
   ]
  },
  {
   "cell_type": "markdown",
   "id": "6044f573",
   "metadata": {},
   "source": [
    "## First operator representation <a name=\"op1\"></a>\n",
    "\n",
    "$$\\prod_i^m(1 - \\partial_{z_i}\\partial_{y_i} + 0.5 \\partial_{z_i}^2\\partial_{y_i})det(x + \\sum_i z_i v_i)*det(x - \\sum_i z_i v_i) g_{\\mu}(\\mathbb{1} + y)$$"
   ]
  },
  {
   "cell_type": "code",
   "execution_count": 2,
   "id": "9e49ed50",
   "metadata": {},
   "outputs": [
    {
     "data": {
      "text/plain": [
       "op1 (generic function with 1 method)"
      ]
     },
     "execution_count": 2,
     "metadata": {},
     "output_type": "execute_result"
    }
   ],
   "source": [
    "function op1(p, i)\n",
    "    term1 = mvp.differentiate(p,y[i],1)\n",
    "    term1 = mvp.differentiate(term1,z[i],1)\n",
    "    term2 = mvp.differentiate(p,y[i],1)\n",
    "    term2 = mvp.differentiate(term2,z[i],2)\n",
    "    output = (p - term1 + 0.5*term2)(z[i]=>0, y[i]=>1)\n",
    "    return output\n",
    "end"
   ]
  },
  {
   "cell_type": "markdown",
   "id": "325b9ec5",
   "metadata": {},
   "source": [
    "### Operator acting on different polynomial <a name=\"stabpres1\"></a>\n",
    "\n",
    "We investigate what happens when our first operator acts on a different polynomial:\n",
    "\n",
    "$$det(x + \\sum_i z_i v_i)*det(x + \\sum_i z_i v_i) g_{\\mu}(\\mathbb{1} + y)$$\n",
    "\n",
    "instead of\n",
    "\n",
    "$$det(x + \\sum_i z_i v_i)*det(x - \\sum_i z_i v_i) g_{\\mu}(\\mathbb{1} + y)$$\n",
    "\n",
    "and we see we quickly get complex roots."
   ]
  },
  {
   "cell_type": "code",
   "execution_count": 3,
   "id": "e80d0319",
   "metadata": {},
   "outputs": [
    {
     "name": "stdout",
     "output_type": "stream",
     "text": [
      "p1_roots = ComplexF64[1.4575352908735024 + 0.8085761413955368im, 1.4575352908735026 - 0.8085761413955361im, 7.139948429155008 - 1.4673133987418014im, 7.139948429155009 + 1.467313398741802im, 0.0 + 0.0im, 0.0 + 0.0im, 0.0 + 0.0im, 0.0 + 0.0im]\n",
      "conj = false\n",
      "iter = 1\n"
     ]
    },
    {
     "data": {
      "text/plain": [
       "1"
      ]
     },
     "execution_count": 3,
     "metadata": {},
     "output_type": "execute_result"
    }
   ],
   "source": [
    "n = 4\n",
    "m = 3\n",
    "\n",
    "conj = true\n",
    "iter = 0\n",
    "tol = 1e-8\n",
    "\n",
    "@polyvar x y[1:3] z[1:3]\n",
    "g = y[1]*y[2] + y[2]*y[3] + y[1]*y[3]\n",
    "g = 1/3 * g\n",
    "\n",
    "while conj && iter < 100\n",
    "    U = randn(n,m)\n",
    "    matbase = x*eye(n)\n",
    "    for i = 1:m\n",
    "       matbase += z[i]*U[:,i]*U[:,i]'\n",
    "    end\n",
    "\n",
    "    matbase_prime = x*eye(n)\n",
    "    for i = 1:m\n",
    "       matbase_prime += z[i]*U[:,i]*U[:,i]'\n",
    "    end\n",
    "    p1 = det(matbase)*det(matbase_prime)*g\n",
    "    for i = 1:3\n",
    "        p1 = op1(p1, i)\n",
    "    end\n",
    "    p1_roots = mpRoots(p1)\n",
    "    if maximum(abs.(imag.(p1_roots))) > tol\n",
    "        @show p1_roots\n",
    "        conj = false \n",
    "    end\n",
    "    iter +=1\n",
    "end\n",
    "\n",
    "@show conj\n",
    "@show iter"
   ]
  },
  {
   "cell_type": "markdown",
   "id": "8c1cfed1",
   "metadata": {},
   "source": [
    "### Partially apply operator<a name=\"partially\"></a>\n",
    "\n",
    "We investigate what happens when apply the operator only partially, meaning for $k \\in [n]$ is\n",
    "\n",
    "$$\\prod_i^k(1 - \\partial_{z_i}\\partial_{y_i} + 0.5 \\partial_{z_i}^2\\partial_{y_i})det(x + \\sum_i z_i v_i)*det(x - \\sum_i z_i v_i) g_{\\mu}(\\mathbb{1} + y) \\Bigg|_{z=0=y}$$\n",
    "\n",
    "real rooted?"
   ]
  },
  {
   "cell_type": "code",
   "execution_count": 4,
   "id": "dd665b1c",
   "metadata": {},
   "outputs": [
    {
     "name": "stdout",
     "output_type": "stream",
     "text": [
      "conj = true\n",
      "iter = 1000\n"
     ]
    },
    {
     "data": {
      "text/plain": [
       "1000"
      ]
     },
     "execution_count": 4,
     "metadata": {},
     "output_type": "execute_result"
    }
   ],
   "source": [
    "n = 4\n",
    "m = 3\n",
    "\n",
    "conj = true\n",
    "iter = 0\n",
    "tol = 1e-8\n",
    "\n",
    "@polyvar y[1:3]\n",
    "g = y[1]*y[2] + y[2]*y[3] + y[1]*y[3]\n",
    "g = 1/3 * g\n",
    "\n",
    "while conj && iter < 1000\n",
    "    U = randn(n,m)\n",
    "    matbase = x*eye(n)\n",
    "    for i = 1:m\n",
    "       matbase += z[i]*U[:,i]*U[:,i]'\n",
    "    end\n",
    "    matbase_prime = x*eye(n)\n",
    "    for i = 1:m\n",
    "       matbase_prime -= z[i]*U[:,i]*U[:,i]'\n",
    "    end\n",
    "    p2= det(matbase)*det(matbase_prime)*g\n",
    "    for i = 1:2\n",
    "        p2 = op1(p2, i)\n",
    "    end\n",
    "    p2 = p2(z[3]=>0, y[3]=>1)\n",
    "    p2_roots = mpRoots(p2)\n",
    "    if maximum(abs.(imag.(p2_roots))) > tol\n",
    "        @show p2_roots\n",
    "        conj = false \n",
    "    end\n",
    "    iter +=1\n",
    "end\n",
    "\n",
    "@show conj\n",
    "@show iter"
   ]
  },
  {
   "cell_type": "markdown",
   "id": "b85e5bb2",
   "metadata": {},
   "source": [
    "## Second operator representation <a name=\"op2\"></a>\n",
    "\n",
    "$$ g_{\\mu}((1 + \\partial_z)(1 - \\partial_y))\\Bigg|_{z=0=y} \\det(xI + \\sum_i z_i v_i v_i^\\top)\\det(xI + \\sum_i y_i v_i v_i^\\top) $$"
   ]
  },
  {
   "cell_type": "markdown",
   "id": "8da8fcec",
   "metadata": {},
   "source": [
    "### Not equal to Diagonalized Operator<a name=\"diag\"></a>\n",
    "\n",
    "We want to find out if for $A$ a psd matrix \n",
    "\n",
    "$$\\det(A + diag((1+ \\partial_z)(1 - \\partial_y))) \\det(xI + V diag(z) V^T)\\det(xI + Vdiag(y)V^T)$$\n",
    "\n",
    "is equal to \n",
    "\n",
    "$$\\det(D + Odiag((1+ \\partial_z)(1 - \\partial_y))O^T) \\det(xI + VO diag(z) O^TV^T)\\det(xI + VOdiag(y)O^TV^T)$$ \n",
    "\n",
    "(up to multiplicative constants) for $A = O^TDO$ with $D$ the diagonal matrix containing the eigenvalues of A\n",
    "\n",
    "we see that the roots differ --> the polynomials are not equivalent"
   ]
  },
  {
   "cell_type": "markdown",
   "id": "54bcb7f8",
   "metadata": {},
   "source": [
    "For the second operator representation we make use of the function poly_operator_poly() which we defined in polyfunctions.jl as we need it in both Jupyter notebooks for the Kadison Singer Experiments"
   ]
  },
  {
   "cell_type": "code",
   "execution_count": 5,
   "id": "8826c489",
   "metadata": {},
   "outputs": [
    {
     "name": "stdout",
     "output_type": "stream",
     "text": [
      "p2_roots = ComplexF64[-116.7576206978278 + 0.0im, -1.9510030745154425 + 0.0im, 1.9510030745154434 + 0.0im, 116.75762069782796 + 0.0im]\n",
      "p1_roots = ComplexF64[-252.56216109047915 + 0.0im, -1.2696001147360352 + 0.0im, 1.2696001147360354 + 0.0im, 252.5621610904787 + 0.0im]\n"
     ]
    },
    {
     "data": {
      "text/plain": [
       "4-element Vector{ComplexF64}:\n",
       " -252.56216109047915 + 0.0im\n",
       " -1.2696001147360352 + 0.0im\n",
       "  1.2696001147360354 + 0.0im\n",
       "   252.5621610904787 + 0.0im"
      ]
     },
     "execution_count": 5,
     "metadata": {},
     "output_type": "execute_result"
    }
   ],
   "source": [
    "# set parameters\n",
    "m = 3\n",
    "n = 2\n",
    "tol2 = 1e-5\n",
    "\n",
    "@polyvar x z[1:3] y[1:3]  # second parameter must be equal to m!\n",
    "@polyvar t\n",
    "\n",
    "# this needs to be mxm dimensional\n",
    "Diag = Diagonal([y[1] - z[1] - y[1]*z[1], y[2] - z[2] - y[2]*z[2], y[3] - z[3] - y[3]*z[3]]) \n",
    "a = [y[1], y[2], y[3], z[1], z[2], z[3]]\n",
    "\n",
    "\n",
    "# first we create the matrix A\n",
    "A = rand(1:10,(m,m))\n",
    "B = A*A'\n",
    "d = maximum(abs.(eigvals(B)))\n",
    "A = B /d\n",
    "F = eigen(A)\n",
    "eigens = F.values\n",
    "O = F.vectors\n",
    "\n",
    "# then we create the polynomial we let the diagonal operator act on \n",
    "V = rand(1:10,(n,m))\n",
    "U = V*O\n",
    "matbase = x*eye(n)\n",
    "for i = 1:m\n",
    "   matbase += z[i]*U[:,i]*U[:,i]'\n",
    "end\n",
    "matbase_prime = x*eye(n)\n",
    "for i = 1:m\n",
    "   matbase_prime += y[i]*U[:,i]*U[:,i]'\n",
    "end\n",
    "p1 = det(matbase)*det(matbase_prime)\n",
    "\n",
    "Lambda = Diagonal(eigens)\n",
    "poly_op1 = det(eye(m) + Lambda*Diag)\n",
    "p1 = poly_operator_poly(poly_op1,p1,a)\n",
    "p1 = p1(y[1]=>0, y[2]=>0, y[3]=>0, z[1]=>0, z[2]=>0, z[3] => 0) \n",
    "p1 = mpRound(p1, tol2, 10)\n",
    "p1_roots = mpRoots(p1)\n",
    "\n",
    "\n",
    "# now we create the polynomial the non diagonalized operator acts on \n",
    "matbase2 = x*eye(n)\n",
    "for i = 1:m\n",
    "   matbase2 += z[i]*V[:,i]*V[:,i]'\n",
    "end\n",
    "\n",
    "matbase2_prime = x*eye(n)\n",
    "for i = 1:m\n",
    "   matbase2_prime += y[i]*V[:,i]*V[:,i]'\n",
    "end\n",
    "\n",
    "p2 = det(matbase2)*det(matbase2_prime)\n",
    "\n",
    "\n",
    "# next we create the polynomial from which we will get the operator\n",
    "op_base = eye(m) + A*Diag\n",
    "poly_op = det(op_base)\n",
    "\n",
    "\n",
    "p2 = poly_operator_poly(poly_op,p2,a)\n",
    "p2 = p2(y[1]=>0, y[2]=>0, y[3]=>0, z[1]=>0, z[2]=>0, z[3] => 0) \n",
    "p2 = mpRound(p2, tol2, 10)\n",
    "p2_roots= mpRoots(p2)\n",
    "\n",
    "\n",
    "@show p2_roots\n",
    "@show p1_roots"
   ]
  },
  {
   "cell_type": "markdown",
   "id": "357bf630",
   "metadata": {},
   "source": [
    "### Final Poly is not real stable<a name=\"realstable2\"></a>"
   ]
  },
  {
   "cell_type": "code",
   "execution_count": 6,
   "id": "24aa6b8a",
   "metadata": {},
   "outputs": [
    {
     "name": "stdout",
     "output_type": "stream",
     "text": [
      "mpRoots(output) = ComplexF64[-1.4275956933740053 - 0.01320474176394143im, -0.12931718283156846 + 0.0003249892757925459im, -0.01913505702936476 - 0.010787628753047175im, 8.926842651547134e-18 + 1.74176050453111e-17im, 0.005120272220358517 - 0.007723691956841599im, 0.12161958739612314 - 0.007123346729404029im, 1.3081040498970002 - 0.10352828365937902im, 0.0 + 0.0im]\n",
      "conj = false\n",
      "iter = 5\n"
     ]
    },
    {
     "data": {
      "text/plain": [
       "5"
      ]
     },
     "execution_count": 6,
     "metadata": {},
     "output_type": "execute_result"
    }
   ],
   "source": [
    "m = 3\n",
    "n= 4\n",
    "tol = 1e-8\n",
    "\n",
    "@polyvar x z[1:3] y[1:3]\n",
    "\n",
    "iter = 0\n",
    "conj = true \n",
    "while conj && iter < 1000\n",
    "\n",
    "    # first we generate A\n",
    "    A = randn(m, m)\n",
    "    B = A*A'\n",
    "    d = maximum(abs.(eigvals(B)))\n",
    "    A = B /d\n",
    "\n",
    "    # then we generate the polynomial that will act as our operator\n",
    "    a = [y[1] - z[1] - y[1]*z[1], y[2] - z[2] - y[2]*z[2], y[3] - z[3] - y[3]*z[3]]\n",
    "    b = [y[1], y[2], y[3], z[1], z[2], z[3]]\n",
    "    C = Diagonal(a)\n",
    "    matbase_g = eye(m) + A*C\n",
    "    operator_poly = det(matbase_g)\n",
    "\n",
    "    # next we generate a polynomial to act on\n",
    "    V = rand(n,m)\n",
    "    \n",
    "    input_poly = x*eye(n)\n",
    "    for i=1:m\n",
    "        input_poly += z[i]*V[:,i]*V[:,i]'\n",
    "    end\n",
    "    \n",
    "    input_poly2 = x*eye(n)\n",
    "    for i=1:m\n",
    "        input_poly2 += y[i]*V[:,i]*V[:,i]'\n",
    "    end\n",
    "    \n",
    "    \n",
    "    poly = det(input_poly)*det(input_poly2)\n",
    "    final_poly = poly_operator_poly(operator_poly,poly,b)\n",
    "    \n",
    "    c1 = rand() + rand()*im\n",
    "    output = final_poly(z[1]=>c1, z[2]=>0, z[3]=> 0, y[1]=>0, y[2]=>0, y[3]=> 0)\n",
    "\n",
    "    if maximum(imag.(mpRoots(output))) > tol\n",
    "        @show mpRoots(output)\n",
    "        conj = false \n",
    "    end\n",
    "    iter +=1\n",
    "end\n",
    "@show conj\n",
    "@show iter"
   ]
  },
  {
   "cell_type": "markdown",
   "id": "05f87868",
   "metadata": {},
   "source": [
    "### Equvialence of real rootedness<a name=\"equiv\"></a>\n",
    "\n",
    "We want to test if the following is true\n",
    "\n",
    "$$ \\prod_{i=1}^n ( 1 + \\lambda_i(A)(op_i - 1))\\bigg|_{z=0} \\text{ is stability preserving }  \\iff \\det( I + A \\cdot diag(op) - A) \\det(xI + \\sum_i z_i v_i v_i^\\top)^2 \\bigg|_{z=0} \\text{ is real stable }$$\n",
    "\n",
    "Where $\\lambda_i(A)$ refers to the eigenvalues of A and op refers to a vector of differential operator (e.g $[1 + \\partial_{z_1}, 1 + \\partial_{z_2}, 1 + \\partial_{z_3}]$)\n",
    "\n",
    "we give only part of the experiments we did, in total we looked at the operators:\n",
    "\n",
    "\\begin{align*}\n",
    "    &op = 1 + \\partial_y  \\\\\n",
    "    &op = 1 - \\partial_y \\\\\n",
    "    &op = 1 - \\partial_y^2 \\\\\n",
    "    &op = 1 + \\partial_y^2 \\\\\n",
    "    &op = 1 + \\partial_y - \\partial_z - \\partial_y \\partial_z \\\\\n",
    "    &op = 1 + \\partial_y + \\partial_z + \\partial_y \\partial_z \\\\\n",
    "    &op = 1 -\\partial_z + \\partial_z^2 \\\\\n",
    "\\end{align*}\n",
    "\n",
    "and for all of the received either real or complex roots, following the above equivalence exactly"
   ]
  },
  {
   "cell_type": "markdown",
   "id": "802874c7",
   "metadata": {},
   "source": [
    "1) op = $1 + \\partial_y$\n",
    "\n",
    "here we expect real roots"
   ]
  },
  {
   "cell_type": "code",
   "execution_count": 7,
   "id": "f36226b9",
   "metadata": {},
   "outputs": [
    {
     "name": "stdout",
     "output_type": "stream",
     "text": [
      "conj = true\n",
      "iter = 1000\n"
     ]
    },
    {
     "data": {
      "text/plain": [
       "1000"
      ]
     },
     "execution_count": 7,
     "metadata": {},
     "output_type": "execute_result"
    }
   ],
   "source": [
    "m = 4\n",
    "n=4\n",
    "tol = 1e-8\n",
    "\n",
    "@polyvar x z[1:4] \n",
    "\n",
    "iter = 0\n",
    "conj = true \n",
    "while conj && iter < 1000\n",
    "\n",
    "    # first we generate A\n",
    "    A = randn(m, m)\n",
    "    B = A*A'\n",
    "    d = maximum(abs.(eigvals(B)))\n",
    "    A = B /d\n",
    "\n",
    "    # then we generate the polynomial that will act as our operator\n",
    "    a = [z[1], z[2], z[3], z[4]]\n",
    "    C = Diagonal(a)\n",
    "    matbase_g = eye(m) + A*C\n",
    "    operator_poly = det(matbase_g)\n",
    "\n",
    "    # next we generate a polynomial to act on\n",
    "    V = rand(n,m)\n",
    "    input_poly = x*eye(n)\n",
    "\n",
    "    for i=1:m\n",
    "        input_poly += z[i]*V[:,i]*V[:,i]'\n",
    "    end\n",
    "    poly = det(input_poly)\n",
    "    final_poly = poly_operator_poly(operator_poly,poly,a)\n",
    "    \n",
    "    output = final_poly(z[1]=>0, z[2]=>0, z[3]=> 0, z[4]=> 0)\n",
    "\n",
    "    if maximum(abs.(imag.(mpRoots(output)))) > tol\n",
    "        @show mpRoots(output)\n",
    "        conj = false \n",
    "    end\n",
    "    iter +=1\n",
    "end\n",
    "@show conj\n",
    "@show iter\n",
    "\n",
    "\n"
   ]
  },
  {
   "cell_type": "markdown",
   "id": "ed890a75",
   "metadata": {},
   "source": [
    "op = $ 1 - \\partial_y^2$\n",
    "\n",
    "here we expect real roots"
   ]
  },
  {
   "cell_type": "code",
   "execution_count": 8,
   "id": "c0e2ab6e",
   "metadata": {},
   "outputs": [
    {
     "name": "stdout",
     "output_type": "stream",
     "text": [
      "conj = true\n",
      "iter = 1000\n"
     ]
    },
    {
     "data": {
      "text/plain": [
       "1000"
      ]
     },
     "execution_count": 8,
     "metadata": {},
     "output_type": "execute_result"
    }
   ],
   "source": [
    "m = 4\n",
    "n=3\n",
    "tol = 1e-8\n",
    "\n",
    "@polyvar x z[1:4] \n",
    "\n",
    "iter = 0\n",
    "conj = true \n",
    "while conj && iter < 1000\n",
    "\n",
    "    # first we generate A\n",
    "    A = randn(m, m)\n",
    "    B = A*A'\n",
    "    d = maximum(abs.(eigvals(B)))\n",
    "    A = B /d\n",
    "\n",
    "    # then we generate the polynomial that will act as our operator\n",
    "    a = [-z[1]^2, -z[2]^2, -z[3]^2, -z[4]^2]\n",
    "    C = Diagonal(a)\n",
    "    matbase_g = eye(m) + A*C\n",
    "    operator_poly = det(matbase_g)\n",
    "\n",
    "    # next we generate a polynomial to act on\n",
    "    V = rand(n,m)\n",
    "    input_poly = x*eye(n)\n",
    "\n",
    "    for i=1:m\n",
    "        input_poly += z[i]*V[:,i]*V[:,i]'\n",
    "    end\n",
    "\n",
    "    poly = det(input_poly)*det(input_poly)\n",
    "\n",
    "    final_poly = poly_operator_poly(operator_poly,poly,[z[1], z[2], z[3], z[4]])\n",
    "    \n",
    "    output = final_poly(z[1]=>0, z[2]=>0, z[3]=>0, z[4]=>0)\n",
    "\n",
    "    if maximum(abs.(imag.(mpRoots(output)))) > tol\n",
    "        @show mpRoots(output)\n",
    "        conj = false \n",
    "    end\n",
    "    iter +=1\n",
    "end\n",
    "@show conj\n",
    "@show iter\n",
    "\n",
    "\n",
    "\n",
    "\n"
   ]
  },
  {
   "cell_type": "markdown",
   "id": "aafdb54e",
   "metadata": {},
   "source": [
    "op = $ 1 + \\partial_y^2$\n",
    "\n",
    "here we expect complex roots"
   ]
  },
  {
   "cell_type": "code",
   "execution_count": 9,
   "id": "f6525b34",
   "metadata": {},
   "outputs": [
    {
     "name": "stdout",
     "output_type": "stream",
     "text": [
      "mpRoots(output) = ComplexF64[-8.326672684688674e-17 - 1.0319633896205365im, -1.1488821923665895e-21 + 0.13607655462419171im, 1.0321627301277003e-17 - 0.13607655462419166im, 1.1102230246251565e-16 + 1.0319633896205376im]\n",
      "conj = false\n",
      "iter = 1\n"
     ]
    },
    {
     "data": {
      "text/plain": [
       "1"
      ]
     },
     "execution_count": 9,
     "metadata": {},
     "output_type": "execute_result"
    }
   ],
   "source": [
    "m = 4\n",
    "n=2\n",
    "tol = 1e-8\n",
    "\n",
    "@polyvar x z[1:4] \n",
    "\n",
    "iter = 0\n",
    "conj = true \n",
    "while conj && iter < 10000\n",
    "\n",
    "    # first we generate A\n",
    "    A = randn(m, m)\n",
    "    B = A*A'\n",
    "    d = maximum(abs.(eigvals(B)))\n",
    "    A = B /d\n",
    "\n",
    "    # then we generate the polynomial that will act as our operator\n",
    "    a = [z[1]^2, z[2]^2, z[3]^2, z[4]^2]\n",
    "    C = Diagonal(a)\n",
    "    matbase_g = eye(m) + A*C\n",
    "    operator_poly = det(matbase_g)\n",
    "\n",
    "    # next we generate a polynomial to act on\n",
    "    V = rand(n,m)\n",
    "    input_poly = x*eye(n)\n",
    "\n",
    "    for i=1:m\n",
    "        input_poly += z[i]*V[:,i]*V[:,i]'\n",
    "    end\n",
    "\n",
    "    poly = det(input_poly)*det(input_poly)\n",
    "\n",
    "    final_poly = poly_operator_poly(operator_poly,poly,[z[1], z[2], z[3], z[4]])\n",
    "    \n",
    "    output = final_poly(z[1]=>0, z[2]=>0, z[3]=>0, z[4]=>0)\n",
    "\n",
    "    if maximum(abs.(imag.(mpRoots(output)))) > tol\n",
    "        @show mpRoots(output)\n",
    "        conj = false \n",
    "    end\n",
    "    iter +=1\n",
    "end\n",
    "@show conj\n",
    "@show iter"
   ]
  },
  {
   "cell_type": "markdown",
   "id": "f8c58ee0",
   "metadata": {},
   "source": [
    "## Third operator representation <a name=\"op3\"></a>\n",
    "\n",
    "$$\\prod_{i=1}^n(1 -\\partial_{z_i}\\partial_{w_i}) ( 1 + \\partial_{y_i} \\partial_{w_i})(1 - \\partial_{z_i} \\partial_{y_i} \\partial_{w_i})\\det(x I  + \\sum_i z_i v_i v_i^\\top)\\det(xI+ \\sum_i y_i v_i v_i^\\top)g_{\\mu}(\\mathbf{1} + \\mathbf{w})$$"
   ]
  },
  {
   "cell_type": "code",
   "execution_count": 10,
   "id": "f21298b5",
   "metadata": {},
   "outputs": [
    {
     "data": {
      "text/plain": [
       "op3 (generic function with 1 method)"
      ]
     },
     "execution_count": 10,
     "metadata": {},
     "output_type": "execute_result"
    }
   ],
   "source": [
    "function op3(p, i)\n",
    "    term = mvp.differentiate(p,w[i],1)\n",
    "    term1 = mvp.differentiate(term,z[i],1)\n",
    "    term2 = mvp.differentiate(term,y[i],1)\n",
    "    term3 = mvp.differentiate(term2,z[i],1)\n",
    "    output = (p - term1 + term2 - term3)\n",
    "    return output\n",
    "end"
   ]
  },
  {
   "cell_type": "markdown",
   "id": "7cc01aa9",
   "metadata": {},
   "source": [
    "first we test what happens if we set all variables to the same variable instead of 0 to obtain a univariate polynomial"
   ]
  },
  {
   "cell_type": "code",
   "execution_count": 11,
   "id": "24e179aa",
   "metadata": {},
   "outputs": [
    {
     "name": "stdout",
     "output_type": "stream",
     "text": [
      "conj = true\n",
      "iter = 1000\n"
     ]
    },
    {
     "data": {
      "text/plain": [
       "1000"
      ]
     },
     "execution_count": 11,
     "metadata": {},
     "output_type": "execute_result"
    }
   ],
   "source": [
    "m = 3\n",
    "n=2\n",
    "tol = 1e-8\n",
    "\n",
    "@polyvar x z[1:3] y[1:3] w[1:3]\n",
    "\n",
    "iter = 0\n",
    "conj = true \n",
    "while conj && iter < 1000\n",
    "\n",
    "    # first we generate A\n",
    "    A = randn(m, m)\n",
    "    B = A*A'\n",
    "    d = maximum(abs.(eigvals(B)))\n",
    "    A = B /d\n",
    "\n",
    "    # then we generate the polynomial g\n",
    "    a = [w[1], w[2], w[3]]\n",
    "    C = Diagonal(a)\n",
    "    matbase_g = eye(m) + A*C - A\n",
    "    g = det(matbase_g)\n",
    "\n",
    "    # next we generate a polynomial to act on\n",
    "    V = rand(n,m)\n",
    "    input_poly = x*eye(n)\n",
    "    for i=1:m\n",
    "        input_poly += y[i]*V[:,i]*V[:,i]'\n",
    "    end\n",
    "    \n",
    "    input_poly2 = x*eye(n)\n",
    "    for i=1:m\n",
    "        input_poly2 += z[i]*V[:,i]*V[:,i]'\n",
    "    end\n",
    "    \n",
    "    p3 = det(input_poly)*det(input_poly2)*g\n",
    "    \n",
    "    c1 = rand() + rand()*im\n",
    "    c2 = rand() + rand()*im\n",
    "    c3 = rand() + rand()*im\n",
    "    c4 = rand() + rand()*im\n",
    "    c5 = rand() + rand()*im \n",
    "    c6 = rand() + rand()*im\n",
    "    c7 = rand() + rand()*im\n",
    "    c8 = rand() + rand()*im\n",
    "    c9 = rand() + rand()*im\n",
    "    for i = 1:3\n",
    "        p3 = op3(p3, i)(z[1]=>x, z[2]=>x, z[3]=>x, y[1]=>x, y[2]=>x, y[3]=>x, w[1]=>x, w[2]=>x, w[3]=>x)\n",
    "    end\n",
    "    \n",
    "    for elm in mpRoots(p3)\n",
    "        if imag(elm) > tol && real(elm) > tol\n",
    "            @show elm\n",
    "            @show mpRoots(p3)\n",
    "            conj = false \n",
    "        end\n",
    "    end\n",
    "    iter +=1\n",
    "end\n",
    "@show conj\n",
    "@show iter"
   ]
  },
  {
   "cell_type": "markdown",
   "id": "1af868f1",
   "metadata": {},
   "source": [
    "next we see what happens when we randomly set the variables to elements in the open 1 quadrant except for one"
   ]
  },
  {
   "cell_type": "code",
   "execution_count": null,
   "id": "cb736679",
   "metadata": {},
   "outputs": [],
   "source": [
    "m = 3\n",
    "n=2\n",
    "tol = 1e-8\n",
    "\n",
    "@polyvar x z[1:3] y[1:3] w[1:3]\n",
    "\n",
    "iter = 0\n",
    "conj = true \n",
    "while conj && iter < 100\n",
    "\n",
    "    # first we generate A\n",
    "    A = randn(m, m)\n",
    "    B = A*A'\n",
    "    d = maximum(abs.(eigvals(B)))\n",
    "    A = B /d\n",
    "\n",
    "    # then we generate the polynomial g\n",
    "    a = [w[1], w[2], w[3]]\n",
    "    C = Diagonal(a)\n",
    "    matbase_g = eye(m) + A*C - A\n",
    "    g = det(matbase_g)\n",
    "\n",
    "    # next we generate a polynomial to act on\n",
    "    V = rand(n,m)\n",
    "    input_poly = x*eye(n)\n",
    "    for i=1:m\n",
    "        input_poly += y[i]*V[:,i]*V[:,i]'\n",
    "    end\n",
    "    \n",
    "    input_poly2 = x*eye(n)\n",
    "    for i=1:m\n",
    "        input_poly2 += z[i]*V[:,i]*V[:,i]'\n",
    "    end\n",
    "    \n",
    "    p3 = det(input_poly)*det(input_poly2)*g\n",
    "    \n",
    "    for i = 1:3\n",
    "        p3 = op3(p3, i)\n",
    "    end\n",
    "    \n",
    "    iter2 = 0\n",
    "    conj2 = true\n",
    "    while conj2 && iter2 < 10\n",
    "        c1 = rand() + rand()*im\n",
    "        c2 = rand() + rand()*im\n",
    "        c3 = rand() + rand()*im\n",
    "        c4 = rand() + rand()*im\n",
    "        c5 = rand() + rand()*im \n",
    "        c6 = rand() + rand()*im\n",
    "        c7 = rand() + rand()*im\n",
    "        c8 = rand() + rand()*im\n",
    "        c9 = rand() + rand()*im\n",
    "        \n",
    "        p3_test = p3(z[1]=>c1, z[2]=>c2, z[3]=>c3, y[1]=>c4, y[2]=>c5, y[3]=> c6, w[1]=>c7, w[2]=>c8, w[3]=> c9)\n",
    "\n",
    "        for elm in mpRoots(p3_test)\n",
    "            if imag(elm) > tol && real(elm) > tol\n",
    "                @show elm\n",
    "                @show mpRoots(p3_test)\n",
    "                conj2 = false \n",
    "            end\n",
    "        end\n",
    "    end\n",
    "    iter +=1\n",
    "end\n",
    "@show conj\n",
    "@show iter"
   ]
  },
  {
   "cell_type": "code",
   "execution_count": null,
   "id": "985a69ba",
   "metadata": {},
   "outputs": [],
   "source": []
  }
 ],
 "metadata": {
  "kernelspec": {
   "display_name": "Julia 1.7.0",
   "language": "julia",
   "name": "julia-1.7"
  },
  "language_info": {
   "file_extension": ".jl",
   "mimetype": "application/julia",
   "name": "julia",
   "version": "1.7.0"
  }
 },
 "nbformat": 4,
 "nbformat_minor": 5
}

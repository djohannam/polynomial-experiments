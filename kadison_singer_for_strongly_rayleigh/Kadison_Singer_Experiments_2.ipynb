{
 "cells": [
  {
   "cell_type": "markdown",
   "id": "cc879e8e",
   "metadata": {},
   "source": [
    "<h1><center>Kadison Singer Experiments 2</center></h1>\n",
    "\n",
    "\n",
    "### Contents\n",
    "\n",
    "1. [First Operator Representation](#op1)\n",
    "    1. [Real Stability of determinant product](#realstable1)\n",
    "    2. [Operator acting on different polynomial](#stabpres1)\n",
    "    3. [Hyperbolicity](#hyperbol)\n",
    "2. [Second Operator Representation](#op2)\n",
    "    1. [Not equal to Diagonalized Operator](#diag)\n",
    "    2. [Real Stability of final polynomial](#realstable2)\n",
    "    3. [Equvialence of real rootedness](#equiv)\n",
    "3. [Third Operator Representation](#op3)\n",
    "    1. [Quarter Plane Stability](#quatstab)\n",
    "    \n",
    "    "
   ]
  },
  {
   "cell_type": "code",
   "execution_count": 1,
   "id": "4053c0af",
   "metadata": {},
   "outputs": [
    {
     "data": {
      "text/plain": [
       "poly_operator_poly (generic function with 1 method)"
      ]
     },
     "execution_count": 1,
     "metadata": {},
     "output_type": "execute_result"
    }
   ],
   "source": [
    "include(\"polyfunctions.jl\")"
   ]
  },
  {
   "cell_type": "markdown",
   "id": "6044f573",
   "metadata": {},
   "source": [
    "## First operator representation <a name=\"op1\"></a>\n",
    "\n",
    "$$\\prod_i^m(1 - \\partial_{z_i}\\partial_{y_i} + 0.5 \\partial_{z_i}^2\\partial_{y_i})det(x + \\sum_i z_i v_i)*det(x - \\sum_i z_i v_i) g_{\\mu}(\\mathbb{1} + y)$$"
   ]
  },
  {
   "cell_type": "markdown",
   "id": "439cc38f",
   "metadata": {},
   "source": [
    "### Real Stability of determinant product <a name=\"realstable1\"></a>"
   ]
  },
  {
   "cell_type": "code",
   "execution_count": null,
   "id": "a4de49ae",
   "metadata": {},
   "outputs": [],
   "source": []
  },
  {
   "cell_type": "code",
   "execution_count": null,
   "id": "0c7b9c7c",
   "metadata": {},
   "outputs": [],
   "source": []
  },
  {
   "cell_type": "markdown",
   "id": "325b9ec5",
   "metadata": {},
   "source": [
    "### Operator acting on different polynomial <a name=\"stabpres1\"></a>"
   ]
  },
  {
   "cell_type": "code",
   "execution_count": null,
   "id": "5ea81748",
   "metadata": {},
   "outputs": [],
   "source": []
  },
  {
   "cell_type": "code",
   "execution_count": null,
   "id": "fadc8737",
   "metadata": {},
   "outputs": [],
   "source": []
  },
  {
   "cell_type": "markdown",
   "id": "8c1cfed1",
   "metadata": {},
   "source": [
    "### Hyperbolicity <a name=\"hyperbol\"></a>"
   ]
  },
  {
   "cell_type": "code",
   "execution_count": null,
   "id": "dd665b1c",
   "metadata": {},
   "outputs": [],
   "source": []
  },
  {
   "cell_type": "markdown",
   "id": "b85e5bb2",
   "metadata": {},
   "source": [
    "## Second operator representation <a name=\"op2\"></a>\n",
    "\n",
    "$$ g_{\\mu}((1 + \\partial_z)(1 - \\partial_y))\\Bigg|_{z=0=y} \\det(xI + \\sum_i z_i v_i v_i^\\top)\\det(xI + \\sum_i y_i v_i v_i^\\top) $$"
   ]
  },
  {
   "cell_type": "code",
   "execution_count": null,
   "id": "53a14a4e",
   "metadata": {},
   "outputs": [],
   "source": []
  },
  {
   "cell_type": "code",
   "execution_count": null,
   "id": "8826c489",
   "metadata": {},
   "outputs": [],
   "source": []
  },
  {
   "cell_type": "markdown",
   "id": "f8c58ee0",
   "metadata": {},
   "source": [
    "## Third operator representation <a name=\"op3\"></a>\n",
    "\n",
    "$$\\prod_{i=1}^n(1 -\\partial_{z_i}\\partial_{w_i}) ( 1 + \\partial_{y_i} \\partial_{w_i})(1 - \\partial_{z_i} \\partial_{y_i} \\partial_{w_i})\\det(x I  + \\sum_i z_i v_i v_i^\\top)\\det(xI+ \\sum_i y_i v_i v_i^\\top)g_{\\mu}(\\mathbf{1} + \\mathbf{w})$$"
   ]
  },
  {
   "cell_type": "code",
   "execution_count": null,
   "id": "2c1c24df",
   "metadata": {},
   "outputs": [],
   "source": []
  }
 ],
 "metadata": {
  "kernelspec": {
   "display_name": "Julia 1.7.0",
   "language": "julia",
   "name": "julia-1.7"
  },
  "language_info": {
   "file_extension": ".jl",
   "mimetype": "application/julia",
   "name": "julia",
   "version": "1.7.0"
  }
 },
 "nbformat": 4,
 "nbformat_minor": 5
}

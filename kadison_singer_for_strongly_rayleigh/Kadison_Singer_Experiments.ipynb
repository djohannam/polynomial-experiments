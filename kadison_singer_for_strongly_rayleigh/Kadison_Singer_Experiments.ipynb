{
 "cells": [
  {
   "cell_type": "markdown",
   "id": "eb371bee",
   "metadata": {},
   "source": [
    "<h1><center>Kadison Singer Experiments</center></h1>\n",
    "\n",
    "\n",
    "### Contents\n",
    "\n",
    "1. [Real Rootedness of Expected Characteristic Polynomials](#rrexp)\n",
    "    1. [Test Experiments](#test)\n",
    "    2. [Expected Characteristic Polynomial on K3](#K3)\n",
    "    3. [Expected Characteristic Polynomial on K3  with edgeweights](#K3w)\n",
    "    4. [Expected Characteristic Polynomial on K4](#K4)\n",
    "    5. [Expected Characteristic Polynomial on non complete graph on 4 vertices](#4nc)\n",
    "2. [Exploration of Operator Representations](#oprep)\n"
   ]
  },
  {
   "cell_type": "code",
   "execution_count": 39,
   "id": "977026ac",
   "metadata": {},
   "outputs": [
    {
     "data": {
      "text/plain": [
       "poly_operator_poly (generic function with 1 method)"
      ]
     },
     "execution_count": 39,
     "metadata": {},
     "output_type": "execute_result"
    }
   ],
   "source": [
    "include(\"polyfunctions.jl\")"
   ]
  },
  {
   "cell_type": "markdown",
   "id": "269224f1",
   "metadata": {},
   "source": [
    "## Real Rootedness of Expected Characteristic Polynomial <a name=\"rrexp\"></a>"
   ]
  },
  {
   "cell_type": "markdown",
   "id": "09b122e5",
   "metadata": {},
   "source": [
    "### Test Experiments <a name=\"test\"></a>\n",
    "\n",
    "We want to run experiments checking if polynomials are real rooted, the experiment below can be considered as our control group to see if we feed in random polynomials how long it takes until complex roots start showing up. As seen below it happens quite fast. So if for our distribution later on we get real roots for a sample of this (or larger) magnitude we know we are on a good path. \n",
    "\n",
    "We mess up the distributions by adding a random coefficient and see how long it takes for non real roots to show up"
   ]
  },
  {
   "cell_type": "code",
   "execution_count": 4,
   "id": "4b11f062",
   "metadata": {},
   "outputs": [
    {
     "data": {
      "text/plain": [
       "1.0e-7"
      ]
     },
     "execution_count": 4,
     "metadata": {},
     "output_type": "execute_result"
    }
   ],
   "source": [
    "@polyvar x\n",
    "tol = 1e-7"
   ]
  },
  {
   "cell_type": "code",
   "execution_count": 7,
   "id": "bc1c0870",
   "metadata": {},
   "outputs": [
    {
     "name": "stdout",
     "output_type": "stream",
     "text": [
      "maximum(abs.(imag.(p1_roots))) = 0.0\n",
      "maximum(abs.(imag.(p1_roots))) = 0.0\n",
      "maximum(abs.(imag.(p1_roots))) = 0.0\n",
      "maximum(abs.(imag.(p1_roots))) = 0.0\n",
      "maximum(abs.(imag.(p1_roots))) = 0.0\n",
      "maximum(abs.(imag.(p1_roots))) = 0.24958784416084198\n",
      "conj = false\n",
      "iter = 6\n"
     ]
    },
    {
     "data": {
      "text/plain": [
       "6"
      ]
     },
     "execution_count": 7,
     "metadata": {},
     "output_type": "execute_result"
    }
   ],
   "source": [
    "N = 8\n",
    "d = 4\n",
    "iter = 0\n",
    "\n",
    "\n",
    "conj = true \n",
    "while conj && iter < 1000\n",
    "    p1 = x*0 \n",
    "    U = rand(d,3)\n",
    "    for i = 1:2\n",
    "        for j = 1:2\n",
    "            for k = 1:2\n",
    "                M = zeros(d,d)\n",
    "                M += rand()*mod(i,2)*U[:,1]*U[:,1]' \n",
    "                M += rand()*mod(j,2)*U[:,2]*U[:,2]'\n",
    "                M += rand()*mod(k,2)*U[:,3]*U[:,3]'\n",
    "                p1 += 1/N * det(x*eye(d) + M)\n",
    "            end\n",
    "        end\n",
    "    end\n",
    "    p1_roots = mpRoots(p1)\n",
    "    conj = maximum(abs.(imag.(p1_roots))) < tol\n",
    "    @show maximum(abs.(imag.(p1_roots)))\n",
    "    iter +=1\n",
    "end\n",
    "\n",
    "@show conj\n",
    "@show iter"
   ]
  },
  {
   "cell_type": "code",
   "execution_count": 11,
   "id": "719dac15",
   "metadata": {},
   "outputs": [
    {
     "name": "stdout",
     "output_type": "stream",
     "text": [
      "maximum(abs.(imag.(p1_roots))) = 0.00011176466823707076\n",
      "conj = false\n",
      "iter = 1\n"
     ]
    },
    {
     "data": {
      "text/plain": [
       "1"
      ]
     },
     "execution_count": 11,
     "metadata": {},
     "output_type": "execute_result"
    }
   ],
   "source": [
    "N = 8\n",
    "d = 4\n",
    "iter = 0\n",
    "\n",
    "conj = true \n",
    "while conj && iter < 20000\n",
    "    p1 = x*0\n",
    "    U = rand(d,3)\n",
    "    W = rand(3)\n",
    "    for i = 1:2\n",
    "        for j = 1:2\n",
    "            for k = 1:2\n",
    "                prob = 0\n",
    "                M = zeros(d,d)\n",
    "                M += rand()*mod(i,2)*U[:,1]*U[:,1]'\n",
    "                M += mod(j,2)*U[:,2]*U[:,2]'\n",
    "                M += mod(k,2)*U[:,3]*U[:,3]'\n",
    "                if mod(i,2)+mod(j,2)+mod(k,2) == 2\n",
    "                    prob = 1\n",
    "                    if mod(i,2) == 1\n",
    "                        prob *= W[1]\n",
    "                    end\n",
    "                    if mod(j,2) == 1\n",
    "                        prob *= W[2]\n",
    "                    end\n",
    "                    if mod(k,2) == 1\n",
    "                        prob *= W[3]\n",
    "                    end    \n",
    "                end\n",
    "                p1 +=  prob * det(x^2*eye(d) - M^2)\n",
    "            end\n",
    "        end\n",
    "    end\n",
    "    p1_roots = mpRoots(p1)\n",
    "    if maximum(abs.(imag.(p1_roots))) > tol\n",
    "        @show maximum(abs.(imag.(p1_roots)))\n",
    "        conj = false \n",
    "    end\n",
    "    iter +=1\n",
    "end\n",
    "\n",
    "@show conj\n",
    "@show iter"
   ]
  },
  {
   "cell_type": "markdown",
   "id": "35dcf2fa",
   "metadata": {},
   "source": [
    "### Expected Characteristic Polynomial on 3 Edges <a name=\"3\"></a>"
   ]
  },
  {
   "cell_type": "code",
   "execution_count": 9,
   "id": "d845d4f5",
   "metadata": {},
   "outputs": [
    {
     "name": "stdout",
     "output_type": "stream",
     "text": [
      "conj = true\n",
      "iter = 1000\n"
     ]
    },
    {
     "data": {
      "text/plain": [
       "1000"
      ]
     },
     "execution_count": 9,
     "metadata": {},
     "output_type": "execute_result"
    }
   ],
   "source": [
    "conj = true \n",
    "while conj && iter < 1000\n",
    "    p1 = x*0\n",
    "    U = rand(d,3)\n",
    "    for i = 1:2\n",
    "        for j = 1:2\n",
    "            for k = 1:2\n",
    "                prob = 0\n",
    "                M = zeros(d,d)\n",
    "                M += mod(i,2)*U[:,1]*U[:,1]'\n",
    "                M += mod(j,2)*U[:,2]*U[:,2]'\n",
    "                M += mod(k,2)*U[:,3]*U[:,3]'\n",
    "                if mod(i,2)+mod(j,2)+mod(k,2) == 2\n",
    "                    prob = 1\n",
    "                end\n",
    "                p1 +=  prob * det(x*eye(d) - M)* det(x*eye(d) + M)\n",
    "            end\n",
    "        end\n",
    "    end\n",
    "    p1_roots = mpRoots(p1)\n",
    "    if maximum(abs.(imag.(p1_roots))) > tol\n",
    "        @show maximum(abs.(imag.(p1_roots)))\n",
    "        conj = false \n",
    "    end\n",
    "    iter +=1\n",
    "end\n",
    "\n",
    "@show conj\n",
    "@show iter"
   ]
  },
  {
   "cell_type": "markdown",
   "id": "68b10010",
   "metadata": {},
   "source": [
    "### Expected Characteristic Polynomial on 3 Edges  with edgeweights <a name=\"3w\"></a>"
   ]
  },
  {
   "cell_type": "code",
   "execution_count": 10,
   "id": "4aed0522",
   "metadata": {},
   "outputs": [
    {
     "name": "stdout",
     "output_type": "stream",
     "text": [
      "conj = true\n",
      "iter = 1000\n"
     ]
    },
    {
     "data": {
      "text/plain": [
       "1000"
      ]
     },
     "execution_count": 10,
     "metadata": {},
     "output_type": "execute_result"
    }
   ],
   "source": [
    "N = 8\n",
    "d = 4\n",
    "iter = 0\n",
    "\n",
    "conj = true \n",
    "while conj && iter < 1000\n",
    "    p1 = x*0\n",
    "    U = rand(d,3)\n",
    "    W = rand(3)\n",
    "    for i = 1:2\n",
    "        for j = 1:2\n",
    "            for k = 1:2\n",
    "                prob = 0\n",
    "                M = zeros(d,d)\n",
    "                M += mod(i,2)*U[:,1]*U[:,1]'\n",
    "                M += mod(j,2)*U[:,2]*U[:,2]'\n",
    "                M += mod(k,2)*U[:,3]*U[:,3]'\n",
    "                if mod(i,2)+mod(j,2)+mod(k,2) == 2\n",
    "                    prob = 1\n",
    "                    if mod(i,2) == 1\n",
    "                        prob *= W[1]\n",
    "                    end\n",
    "                    if mod(j,2) == 1\n",
    "                        prob *= W[2]\n",
    "                    end\n",
    "                    if mod(k,2) == 1\n",
    "                        prob *= W[3]\n",
    "                    end    \n",
    "                end\n",
    "                p1 +=  prob * det(x*eye(d) - M)*det(x*eye(d) + M)\n",
    "            end\n",
    "        end\n",
    "    end\n",
    "    p1_roots = mpRoots(p1)\n",
    "    if maximum(abs.(imag.(p1_roots))) > tol\n",
    "        @show maximum(abs.(imag.(p1_roots)))\n",
    "        conj = false \n",
    "    end\n",
    "    iter +=1\n",
    "end\n",
    "\n",
    "@show conj\n",
    "@show iter"
   ]
  },
  {
   "cell_type": "markdown",
   "id": "f229a5c1",
   "metadata": {},
   "source": [
    "### Expected Characteristic Polynomial on K4 <a name=\"4\"></a>"
   ]
  },
  {
   "cell_type": "code",
   "execution_count": 12,
   "id": "f1ddb209",
   "metadata": {},
   "outputs": [
    {
     "name": "stdout",
     "output_type": "stream",
     "text": [
      "conj = true\n",
      "iter = 20000\n"
     ]
    },
    {
     "data": {
      "text/plain": [
       "20000"
      ]
     },
     "execution_count": 12,
     "metadata": {},
     "output_type": "execute_result"
    }
   ],
   "source": [
    "N = 8\n",
    "d = 4\n",
    "iter = 0\n",
    "\n",
    "\n",
    "conj = true \n",
    "while conj && iter < 20000\n",
    "    p1 = x*0\n",
    "    U = rand(d,6)\n",
    "    W = rand(6)\n",
    "    for i=1:2\n",
    "        for j=1:2\n",
    "            for k=1:2\n",
    "                for l=1:2\n",
    "                    for m=1:2\n",
    "                        for t=1:2\n",
    "                            # first we check if we have exactly 3 edges\n",
    "                            if mod(i,2)+mod(j,2)+mod(k,2)+mod(l,2)+mod(m,2)+mod(t,2) == 3\n",
    "                                # then we check that we don't have cycles \n",
    "                                if mod(i,2)+mod(j,2)+mod(t,2) != 3 && mod(j,2)+mod(k,2)+mod(m,2) != 3 && mod(k,2)+mod(l,2)+mod(t,2) != 3 && mod(i,2)+mod(l,2)+mod(m,2)!= 3\n",
    "                                    prob = 1\n",
    "                                    M = zeros(d,d)\n",
    "                                    M += mod(i,2)*U[:,1]*U[:,1]'\n",
    "                                    M += mod(j,2)*U[:,2]*U[:,2]'\n",
    "                                    M += mod(k,2)*U[:,3]*U[:,3]'\n",
    "                                    M += mod(l,2)*U[:,4]*U[:,4]'\n",
    "                                    M += mod(m,2)*U[:,5]*U[:,5]'\n",
    "                                    M += mod(t,2)*U[:,6]*U[:,6]'\n",
    "                                    if mod(i,2)==1\n",
    "                                        prob *= W[1]\n",
    "                                    end\n",
    "                                    if mod(j,2)==1\n",
    "                                        prob *= W[2]\n",
    "                                    end\n",
    "                                    if mod(k,2)==1\n",
    "                                        prob *= W[3]\n",
    "                                    end\n",
    "                                    if mod(l,2)==1\n",
    "                                        prob *= W[4]\n",
    "                                    end\n",
    "                                    if mod(m,2)==1\n",
    "                                        prob *= W[5]\n",
    "                                    end\n",
    "                                    if mod(t,2)==1\n",
    "                                        prob *= W[6]\n",
    "                                    end\n",
    "                                    p1 +=  prob * det(x*eye(d) - M)*det(x*eye(d) + M)\n",
    "                                end\n",
    "                            end\n",
    "                        end\n",
    "                    end\n",
    "                end\n",
    "            end\n",
    "        end\n",
    "    end\n",
    "    p1_roots = mpRoots(p1)\n",
    "    if maximum(abs.(imag.(p1_roots))) > tol\n",
    "        @show maximum(abs.(imag.(p1_roots)))\n",
    "        conj = false \n",
    "    end\n",
    "    iter +=1\n",
    "end     \n",
    "\n",
    "@show conj\n",
    "@show iter"
   ]
  },
  {
   "cell_type": "markdown",
   "id": "0163fed3",
   "metadata": {},
   "source": [
    "### Expected Characteristic Polynomial on non complete graph on 4 vertices <a name=\"4nc\"></a>"
   ]
  },
  {
   "cell_type": "code",
   "execution_count": 13,
   "id": "064e6b5a",
   "metadata": {},
   "outputs": [
    {
     "name": "stdout",
     "output_type": "stream",
     "text": [
      "conj = true\n",
      "iter = 20000\n"
     ]
    },
    {
     "data": {
      "text/plain": [
       "20000"
      ]
     },
     "execution_count": 13,
     "metadata": {},
     "output_type": "execute_result"
    }
   ],
   "source": [
    "N = 8\n",
    "d = 4\n",
    "iter = 0\n",
    "\n",
    "\n",
    "conj = true \n",
    "while conj && iter < 20000\n",
    "    p1 = x*0\n",
    "    U = rand(d,6)\n",
    "    W = rand(6)\n",
    "    for i=1:2\n",
    "        for j=1:2\n",
    "            if j == 1\n",
    "                continue\n",
    "            end\n",
    "            for k=1:2\n",
    "                if k == 1\n",
    "                    continue\n",
    "                end\n",
    "                for l=1:2\n",
    "                    for m=1:2\n",
    "                        for t=1:2\n",
    "                            # first we check if we have exactly 3 edges\n",
    "                            if mod(i,2)+mod(j,2)+mod(k,2)+mod(l,2)+mod(m,2)+mod(t,2) == 3\n",
    "                                # then we check that we don't have cycles \n",
    "                                if mod(i,2)+mod(j,2)+mod(t,2) != 3 && mod(j,2)+mod(k,2)+mod(m,2) != 3 && mod(k,2)+mod(l,2)+mod(t,2) != 3 && mod(i,2)+mod(l,2)+mod(m,2)!= 3\n",
    "                                    prob = 1\n",
    "                                    M = zeros(d,d)\n",
    "                                    M += mod(i,2)*U[:,1]*U[:,1]'\n",
    "                                    M += mod(j,2)*U[:,2]*U[:,2]'\n",
    "                                    M += mod(k,2)*U[:,3]*U[:,3]'\n",
    "                                    M += mod(l,2)*U[:,4]*U[:,4]'\n",
    "                                    M += mod(m,2)*U[:,5]*U[:,5]'\n",
    "                                    M += mod(t,2)*U[:,6]*U[:,6]'\n",
    "                                    if mod(i,2)==1\n",
    "                                        prob *= W[1]\n",
    "                                    end\n",
    "                                    if mod(j,2)==1\n",
    "                                        prob *= W[2]\n",
    "                                    end\n",
    "                                    if mod(k,2)==1\n",
    "                                        prob *= W[3]\n",
    "                                    end\n",
    "                                    if mod(l,2)==1\n",
    "                                        prob *= W[4]\n",
    "                                    end\n",
    "                                    if mod(m,2)==1\n",
    "                                        prob *= W[5]\n",
    "                                    end\n",
    "                                    if mod(t,2)==1\n",
    "                                        prob *= W[6]\n",
    "                                    end\n",
    "                                    p1 +=  prob * det(x*eye(d) - M)*det(x*eye(d) + M)\n",
    "                                end\n",
    "                            end\n",
    "                        end\n",
    "                    end\n",
    "                end\n",
    "            end\n",
    "        end\n",
    "    end\n",
    "    p1_roots = mpRoots(p1)\n",
    "    if maximum(abs.(imag.(p1_roots))) > tol\n",
    "        @show maximum(abs.(imag.(p1_roots)))\n",
    "        conj = false \n",
    "    end\n",
    "    iter +=1\n",
    "end     \n",
    "\n",
    "@show conj\n",
    "@show iter"
   ]
  },
  {
   "cell_type": "markdown",
   "id": "16e5f13c",
   "metadata": {},
   "source": [
    "## Exploration of Operator Representations <a name=\"oprep\"></a>\n",
    "\n",
    "We want to experimentally check if our operator representations indeed match the expectation.\n",
    "$$\\mathbb{E}_{\\xi \\sim \\mu}[\\det(x^2 - (\\sum_i \\xi_i v_i v_i^\\top)^2)]$$\n",
    "we will run some experiments based on the distribution obtained from spanning trees to see if indeed the LHS and the RHS of the above equations have the same roots"
   ]
  },
  {
   "cell_type": "markdown",
   "id": "b9637f7e",
   "metadata": {},
   "source": [
    "### First operator representation <a name=\"op1\"></a>\n",
    "\n",
    "$$\\prod_i^m(1 - \\partial_{z_i}\\partial_{y_i} + 0.5 \\partial_{z_i}^2\\partial_{y_i})det(x + \\sum_i z_i v_i)*det(x - \\sum_i z_i v_i) g_{\\mu}(\\mathbb{1} + y)$$"
   ]
  },
  {
   "cell_type": "code",
   "execution_count": 14,
   "id": "90257799",
   "metadata": {},
   "outputs": [
    {
     "data": {
      "text/plain": [
       "op (generic function with 1 method)"
      ]
     },
     "execution_count": 14,
     "metadata": {},
     "output_type": "execute_result"
    }
   ],
   "source": [
    "function op(p, i)\n",
    "    term1 = mvp.differentiate(p,y[i],1)\n",
    "    term1 = mvp.differentiate(term1,z[i],1)\n",
    "    term2 = mvp.differentiate(p,y[i],1)\n",
    "    term2 = mvp.differentiate(term2,z[i],2)\n",
    "    output = (p - term1 + 0.5*term2)(z[i]=>0, y[i]=>1)\n",
    "    return output\n",
    "end"
   ]
  },
  {
   "cell_type": "markdown",
   "id": "044692ec",
   "metadata": {},
   "source": [
    "#### Complete Graph on 3 vertices"
   ]
  },
  {
   "cell_type": "code",
   "execution_count": 73,
   "id": "78c23a61",
   "metadata": {},
   "outputs": [
    {
     "name": "stdout",
     "output_type": "stream",
     "text": [
      "conj = true\n",
      "iter = 10000\n"
     ]
    },
    {
     "data": {
      "text/plain": [
       "10000"
      ]
     },
     "execution_count": 73,
     "metadata": {},
     "output_type": "execute_result"
    }
   ],
   "source": [
    "@polyvar x z[1:3] y[1:3]\n",
    "tol = 1e-8\n",
    "\n",
    "d = 4\n",
    "iter = 0\n",
    "\n",
    "g = y[1]*y[2] + y[2]*y[3] + y[1]*y[3]\n",
    "g = 1/3 * g\n",
    "\n",
    "conj = true \n",
    "while conj && iter < 10000\n",
    "    # first we build the polynomial obtained by the expectation\n",
    "    p_e = x*0\n",
    "    U = rand(d,3)\n",
    "    for i = 1:2\n",
    "        for j = 1:2\n",
    "            for k = 1:2\n",
    "                prob = 0\n",
    "                M = zeros(d,d)\n",
    "                M += mod(i,2)*U[:,1]*U[:,1]'\n",
    "                M += mod(j,2)*U[:,2]*U[:,2]'\n",
    "                M += mod(k,2)*U[:,3]*U[:,3]'\n",
    "                # prob = probabillity of outcome\n",
    "                if mod(i,2)+mod(j,2)+mod(k,2) == 2\n",
    "                    prob = 1/3\n",
    "                end\n",
    "                p_e +=  prob * det(x*eye(d) - M)* det(x*eye(d) + M)\n",
    "            end\n",
    "        end\n",
    "    end\n",
    "    # next we build the polynomial obtained by our operator\n",
    "    matbase = x*eye(d)\n",
    "    for i = 1:3\n",
    "       matbase += z[i]*U[:,i]*U[:,i]'\n",
    "    end\n",
    "\n",
    "    matbase_prime = x*eye(d)\n",
    "    for i = 1:3\n",
    "       matbase_prime -= z[i]*U[:,i]*U[:,i]'\n",
    "    end\n",
    "    p_o = det(matbase)*det(matbase_prime)*g\n",
    "    for i = 1:3\n",
    "        p_o = op(p_o, i)\n",
    "    end\n",
    "    \n",
    "    coeffs_e = NonsparseCoefficientsofmp(p_e)\n",
    "    coeffs_estable = zeros(length(coeffs_e))\n",
    "    i = 1\n",
    "    for elm in coeffs_e\n",
    "        if abs(elm) > tol\n",
    "            coeffs_estable[i] = round(elm, digits=5)\n",
    "        end\n",
    "        i += 1\n",
    "    end\n",
    "    coeffs_o = NonsparseCoefficientsofmp(p_o)\n",
    "    coeffs_ostable = zeros(length(coeffs_o))\n",
    "    i = 1\n",
    "    for elm in coeffs_o\n",
    "        if abs(elm) > tol\n",
    "            coeffs_ostable[i] = round(elm, digits=5)\n",
    "        end\n",
    "        i += 1\n",
    "    end\n",
    "    # p_e2 = p.Polynomial(coeffs_estable) \n",
    "    p_e2 = p.Polynomial(coeffs_estable) \n",
    "    p_o2 = p.Polynomial(coeffs_ostable) \n",
    "    if roots(p_o2)!=roots(p_e2)\n",
    "        @show p_o2\n",
    "        @show p_e2\n",
    "        conj = false\n",
    "    end\n",
    "    iter +=1\n",
    "end\n",
    "\n",
    "@show conj\n",
    "@show iter"
   ]
  },
  {
   "cell_type": "markdown",
   "id": "4a708c3f",
   "metadata": {},
   "source": [
    "### Second operator representation <a name=\"op2\"></a>\n",
    "\n",
    "$$ g_{\\mu}((1 + \\partial_z)(1 - \\partial_y))\\Bigg|_{z=0=y} \\det(xI + \\sum_i z_i v_i v_i^\\top)\\det(xI + \\sum_i y_i v_i v_i^\\top) $$\n",
    "\n",
    "We will compare our operator to the previous operator representation"
   ]
  },
  {
   "cell_type": "code",
   "execution_count": 72,
   "id": "66305206",
   "metadata": {},
   "outputs": [
    {
     "name": "stdout",
     "output_type": "stream",
     "text": [
      "conj = true\n",
      "iter = 10000\n"
     ]
    },
    {
     "data": {
      "text/plain": [
       "10000"
      ]
     },
     "execution_count": 72,
     "metadata": {},
     "output_type": "execute_result"
    }
   ],
   "source": [
    "iter = 0\n",
    "m = 2\n",
    "n = 2\n",
    "@polyvar x z[1:2] y[1:2]  \n",
    "Diag = Diagonal([y[1] - z[1] - y[1]*z[1], y[2] - z[2] - y[2]*z[2]])\n",
    "Diag2 =  Diagonal([y[1], y[2]])\n",
    "\n",
    "conj = true \n",
    "while conj && iter < 10000\n",
    "    # first we build the polynomial obtained by our new operator\n",
    "    A = rand(1:10,(m,m))\n",
    "    B = A*A'\n",
    "    d = maximum(abs.(eigvals(B)))\n",
    "    A = B /d\n",
    "\n",
    "    poly_op = det(eye(m) + A*Diag)\n",
    "    V = rand(1:10,(n,m))\n",
    "    \n",
    "    \n",
    "    matbase = x*eye(n)\n",
    "    for i = 1:m\n",
    "       matbase += z[i]*V[:,i]*V[:,i]'\n",
    "    end\n",
    "\n",
    "    matbase_prime = x*eye(n)\n",
    "    for i = 1:m\n",
    "       matbase_prime += y[i]*V[:,i]*V[:,i]'\n",
    "    end\n",
    "    p1 = det(matbase)*det(matbase_prime)\n",
    "    \n",
    "    p1_out = poly_operator_poly(poly_op,p1, [y[1], y[2], z[1], z[2]])(y[1]=>0, y[2]=>0, z[1]=>0, z[2]=>0)\n",
    "  \n",
    "    # next we build the polynomial obtained by our first operator\n",
    "    g = det(eye(m) + A*Diag2 - A)\n",
    "    matbase_prime2 = x*eye(n)\n",
    "    \n",
    "    for i = 1:m\n",
    "       matbase_prime2 -= z[i]*V[:,i]*V[:,i]'\n",
    "    end\n",
    "    \n",
    "    p2 = det(matbase)*det(matbase_prime2)*g\n",
    "    \n",
    "    for i = 1:m\n",
    "        p2 = op(p2, i)\n",
    "    end\n",
    "    \n",
    "    coeffs1 = NonsparseCoefficientsofmp(p1_out)\n",
    "    coeffs1_stable = zeros(length(coeffs1))\n",
    "    i = 1\n",
    "    for elm in coeffs1\n",
    "        if abs(elm) > tol\n",
    "            coeffs1_stable[i] = round(elm, digits=5)\n",
    "        end\n",
    "        i += 1\n",
    "    end\n",
    "    \n",
    "    coeffs2 = NonsparseCoefficientsofmp(p2)\n",
    "    coeffs2_stable = zeros(length(coeffs2))\n",
    "    i = 1\n",
    "    for elm in coeffs2\n",
    "        if abs(elm) > tol\n",
    "            coeffs2_stable[i] = round(elm, digits=5)\n",
    "        end\n",
    "        i += 1\n",
    "    end\n",
    "    \n",
    "    p1 = p.Polynomial(coeffs1_stable) \n",
    "    p2 = p.Polynomial(coeffs2_stable) \n",
    "    if roots(p1)!=roots(p2)\n",
    "        @show p1\n",
    "        @show p2\n",
    "        conj = false\n",
    "    end\n",
    "    iter +=1\n",
    "end\n",
    "\n",
    "@show conj\n",
    "@show iter"
   ]
  },
  {
   "cell_type": "markdown",
   "id": "dcade336",
   "metadata": {},
   "source": [
    "### Third operator representation <a name=\"op3\"></a>\n",
    "\n",
    "$$\\prod_{i=1}^n(1 -\\partial_{z_i}\\partial_{w_i}) ( 1 + \\partial_{y_i} \\partial_{w_i})(1 - \\partial_{z_i} \\partial_{y_i} \\partial_{w_i})\\det(x I  + \\sum_i z_i v_i v_i^\\top)\\det(xI+ \\sum_i y_i v_i v_i^\\top)g_{\\mu}(\\mathbf{1} + \\mathbf{w})$$"
   ]
  },
  {
   "cell_type": "code",
   "execution_count": 77,
   "id": "e3ad0f5c",
   "metadata": {},
   "outputs": [
    {
     "data": {
      "text/plain": [
       "op2 (generic function with 1 method)"
      ]
     },
     "execution_count": 77,
     "metadata": {},
     "output_type": "execute_result"
    }
   ],
   "source": [
    "function op2(p, i)\n",
    "    term1 = mvp.differentiate(p,w[i],1)\n",
    "    term1 = mvp.differentiate(term1,z[i],1)\n",
    "    term2 = mvp.differentiate(p,w[i],1)\n",
    "    term2 = mvp.differentiate(term2,y[i],1)\n",
    "    term3 = mvp.differentiate(p,y[i],1)\n",
    "    term3 = mvp.differentiate(term3,z[i],1)\n",
    "    term3 = mvp.differentiate(term3,w[i],1)\n",
    "    output = (p - term1 + term2 - term3)(z[i]=>0, y[i]=>0, w[i]=>1)\n",
    "    return output\n",
    "end"
   ]
  },
  {
   "cell_type": "code",
   "execution_count": 78,
   "id": "7287a219",
   "metadata": {},
   "outputs": [
    {
     "name": "stdout",
     "output_type": "stream",
     "text": [
      "conj = true\n",
      "iter = 10000\n"
     ]
    },
    {
     "data": {
      "text/plain": [
       "10000"
      ]
     },
     "execution_count": 78,
     "metadata": {},
     "output_type": "execute_result"
    }
   ],
   "source": [
    "iter = 0\n",
    "m = 2\n",
    "n = 2\n",
    "@polyvar x z[1:2] y[1:2] w[1:2]  \n",
    "Diag = Diagonal([y[1] - z[1] - y[1]*z[1], y[2] - z[2] - y[2]*z[2]])\n",
    "Diag2 =  Diagonal([w[1], w[2]])\n",
    "\n",
    "conj = true \n",
    "while conj && iter < 10000\n",
    "    # first we build the polynomial obtained by our new operator\n",
    "    A = rand(1:10,(m,m))\n",
    "    B = A*A'\n",
    "    d = maximum(abs.(eigvals(B)))\n",
    "    A = B /d\n",
    "\n",
    "    poly_op = det(eye(m) + A*Diag)\n",
    "    V = rand(1:10,(n,m))\n",
    "    \n",
    "    \n",
    "    matbase = x*eye(n)\n",
    "    for i = 1:m\n",
    "       matbase += z[i]*V[:,i]*V[:,i]'\n",
    "    end\n",
    "\n",
    "    matbase_prime = x*eye(n)\n",
    "    for i = 1:m\n",
    "       matbase_prime += y[i]*V[:,i]*V[:,i]'\n",
    "    end\n",
    "    p1 = det(matbase)*det(matbase_prime)\n",
    "    \n",
    "    p1_out = poly_operator_poly(poly_op,p1, [y[1], y[2], z[1], z[2]])(y[1]=>0, y[2]=>0, z[1]=>0, z[2]=>0)\n",
    "  \n",
    "    # next we build the polynomial obtained by our first operator\n",
    "    g = det(eye(m) + A*Diag2 - A)\n",
    "    matbase_prime2 = x*eye(n)\n",
    "    \n",
    "    p2 = det(matbase)*det(matbase_prime)*g\n",
    "    \n",
    "    for i = 1:m\n",
    "        p2 = op2(p2, i)\n",
    "    end\n",
    "    \n",
    "    coeffs1 = NonsparseCoefficientsofmp(p1_out)\n",
    "    coeffs1_stable = zeros(length(coeffs1))\n",
    "    i = 1\n",
    "    for elm in coeffs1\n",
    "        if abs(elm) > tol\n",
    "            coeffs1_stable[i] = round(elm, digits=5)\n",
    "        end\n",
    "        i += 1\n",
    "    end\n",
    "    \n",
    "    coeffs2 = NonsparseCoefficientsofmp(p2)\n",
    "    coeffs2_stable = zeros(length(coeffs2))\n",
    "    i = 1\n",
    "    for elm in coeffs2\n",
    "        if abs(elm) > tol\n",
    "            coeffs2_stable[i] = round(elm, digits=5)\n",
    "        end\n",
    "        i += 1\n",
    "    end\n",
    "    \n",
    "    p1 = p.Polynomial(coeffs1_stable) \n",
    "    p2 = p.Polynomial(coeffs2_stable) \n",
    "    if roots(p1)!=roots(p2)\n",
    "        @show p1\n",
    "        @show p2\n",
    "        conj = false\n",
    "    end\n",
    "    iter +=1\n",
    "end\n",
    "\n",
    "@show conj\n",
    "@show iter"
   ]
  }
 ],
 "metadata": {
  "kernelspec": {
   "display_name": "Julia 1.7.0",
   "language": "julia",
   "name": "julia-1.7"
  },
  "language_info": {
   "file_extension": ".jl",
   "mimetype": "application/julia",
   "name": "julia",
   "version": "1.7.0"
  }
 },
 "nbformat": 4,
 "nbformat_minor": 5
}

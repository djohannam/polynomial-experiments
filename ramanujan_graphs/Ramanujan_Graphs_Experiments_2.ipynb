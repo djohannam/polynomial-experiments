{
 "cells": [
  {
   "cell_type": "markdown",
   "id": "fd725d35",
   "metadata": {},
   "source": [
    "<h1><center>Ramanujan Graph Experiments 2</center></h1>\n",
    "\n",
    "For a graph to be Ramanujan we need the nontrivial eigenvalues to lie inbetween $-2\\sqrt{d-1}$ and $2\\sqrt{d-1} = 2$. We know d will always be a trivial eigenvalue due to $\\mathbb{1}$ being an eigenvector with d it's corresponding eigenvalue. For an even integer n corresponding to the number of vertices in a graph we want to consider sums perfect matchings on n vertices. This will always give us a $d$-regular hypergraph. We want to investigate if we can use sums of random matchings to construct an interalcing family of characteristic polynomials. To begin with we wil consider expresssions of the following form\n",
    "$$ \\mathbb{E}_{\\Pi}[det(x^2*I - (M + \\Pi M \\Pi^T)^2)]$$\n",
    "\n",
    "### Contents\n",
    "\n",
    "1. [Matchings on 4 vertices](#4)\n",
    "    1. [Excluding bipartite graphs](#4exb)\n",
    "2. [Matchings on 6 vertices](#4)\n",
    "    1. [Excluding bipartite graphs](#6exb)\n",
    "    2. [Excluding non-simple graphs](#6exs)\n",
    "    3. [Excluding non-simple and bipartite graphs](#6exsb)"
   ]
  },
  {
   "cell_type": "code",
   "execution_count": 1,
   "id": "8200dd5f",
   "metadata": {},
   "outputs": [
    {
     "data": {
      "text/plain": [
       "poly_operator_poly (generic function with 1 method)"
      ]
     },
     "execution_count": 1,
     "metadata": {},
     "output_type": "execute_result"
    }
   ],
   "source": [
    "include(\"../polyfunctions.jl\")"
   ]
  },
  {
   "cell_type": "code",
   "execution_count": 2,
   "id": "12e1f6f3",
   "metadata": {},
   "outputs": [
    {
     "data": {
      "text/plain": [
       "Graphs"
      ]
     },
     "execution_count": 2,
     "metadata": {},
     "output_type": "execute_result"
    }
   ],
   "source": [
    "using Graphs\n",
    "using Combinatorics\n",
    "using Permutations\n",
    "using Random\n",
    "\n",
    "const g=Graphs"
   ]
  },
  {
   "cell_type": "markdown",
   "id": "5c3954be",
   "metadata": {},
   "source": [
    "## Constants and Functions needed"
   ]
  },
  {
   "cell_type": "code",
   "execution_count": 3,
   "id": "10595180",
   "metadata": {},
   "outputs": [
    {
     "data": {
      "text/plain": [
       "perms (generic function with 1 method)"
      ]
     },
     "execution_count": 3,
     "metadata": {},
     "output_type": "execute_result"
    }
   ],
   "source": [
    "# get a set of all the permutations of the coordinates of an array (for non unique entries there will be duplicates)\n",
    "perms(a) = reverse(collect(permutations(a)))"
   ]
  },
  {
   "cell_type": "code",
   "execution_count": 4,
   "id": "c60393ee",
   "metadata": {},
   "outputs": [
    {
     "data": {
      "text/plain": [
       "1.0e-5"
      ]
     },
     "execution_count": 4,
     "metadata": {},
     "output_type": "execute_result"
    }
   ],
   "source": [
    "tol = 1e-5"
   ]
  },
  {
   "cell_type": "markdown",
   "id": "1298b4e3",
   "metadata": {},
   "source": [
    "## Matching on 4 vertices <a name=\"4\"></a>"
   ]
  },
  {
   "cell_type": "code",
   "execution_count": 5,
   "id": "d1ce7a2a",
   "metadata": {},
   "outputs": [
    {
     "name": "stdout",
     "output_type": "stream",
     "text": [
      "Expectation NOT real rooted\n",
      "ComplexF64[-0.6985942110500099 + 1.3495803810984808im, -0.6985942110500097 - 1.3495803810984806im, -1.9812869007487213e-8 - 2.000000020477693im, -2.5717506513432724e-9 + 1.9999999604373495im, 2.5717523599563332e-9 + 2.000000039562656im, 1.9812867587382717e-8 - 1.9999999795223047im, 0.698594211050007 + 1.3495803810984777im, 0.6985942110500087 - 1.34958038109848im]"
     ]
    }
   ],
   "source": [
    "A = zeros(4, 4)\n",
    "A[1,2] = 1\n",
    "A[2,1] = 1\n",
    "A[3,4] = 1\n",
    "A[4,3] = 1\n",
    "\n",
    "@polyvar x\n",
    "p1 = x*0\n",
    "\n",
    "a = [1,2,3,4]\n",
    "permutations4 = perms(a)\n",
    "\n",
    "for a in permutations4\n",
    "    s = Permutation(a)\n",
    "    Pi = Matrix(s)\n",
    "    B = A + Pi*A*Pi'\n",
    "    # G= sg.SimpleGraph(B)\n",
    "    c = det(x*eye(4) - B)\n",
    "    p1 +=  det(x^2*eye(4) + B^2)\n",
    "end\n",
    "\n",
    "\n",
    "p1_roots = mpRoots(p1) \n",
    "\n",
    "if maximum(abs.(imag.(p1_roots))) > tol\n",
    "    println(\"Expectation NOT real rooted\")\n",
    "    print(p1_roots)\n",
    "else\n",
    "    print(\"Expectation real rooted\")\n",
    "end\n",
    "\n"
   ]
  },
  {
   "cell_type": "markdown",
   "id": "fcc90c04",
   "metadata": {},
   "source": [
    "### Excluding bipartite graphs <a name=\"4exb\"></a>\n",
    "\n",
    "Excluding bipartite graphs from $M + \\Pi M \\Pi^\\top$ on 4 vertices would lead to an empty set, therefore we consider \n",
    "\\begin{align*}\n",
    "    M + \\Pi_1 M \\Pi_1^\\top + \\Pi_2 M \\Pi_2^\\top \n",
    "\\end{align*}\n",
    "and bigger sums of random matchings."
   ]
  },
  {
   "cell_type": "code",
   "execution_count": 6,
   "id": "2b00b399",
   "metadata": {},
   "outputs": [
    {
     "name": "stdout",
     "output_type": "stream",
     "text": [
      "Expectation real rooted"
     ]
    }
   ],
   "source": [
    "d = 4\n",
    "p1_wob = x*0\n",
    "M = [0 1 0 0; 1 0 0 0; 0 0 0 1; 0 0 1 0]\n",
    "for a in permutations4\n",
    "    s = Permutation(a)\n",
    "    Pi = Matrix(s)\n",
    "    for b in permutations4\n",
    "        if b == a\n",
    "            continue\n",
    "        end \n",
    "        s2 = Permutation(b)\n",
    "        Pi2 = Matrix(s2)\n",
    "        B = Pi*M*Pi' + Pi2*M*Pi2' + M\n",
    "        H = g.Graph(B)\n",
    "        a = g.bipartite_map(H)\n",
    "        if length(a) == 0\n",
    "            p1_wob += det(x^2*eye(4) - B^2)\n",
    "        end\n",
    "    end\n",
    "end\n",
    "\n",
    "p1_wob_roots = mpRoots(p1_wob) \n",
    "\n",
    "if maximum(abs.(imag.(p1_wob_roots))) > tol\n",
    "    println(\"Expectation NOT real rooted\")\n",
    "    print(p1_wob_roots)\n",
    "else\n",
    "    print(\"Expectation real rooted\")\n",
    "end"
   ]
  },
  {
   "cell_type": "code",
   "execution_count": 7,
   "id": "2a8048a6",
   "metadata": {},
   "outputs": [
    {
     "name": "stdout",
     "output_type": "stream",
     "text": [
      "Expectation real rooted"
     ]
    }
   ],
   "source": [
    "d = 4\n",
    "p1_wob = x*0\n",
    "M = [0 1 0 0; 1 0 0 0; 0 0 0 1; 0 0 1 0]\n",
    "for a in permutations4\n",
    "    s = Permutation(a)\n",
    "    Pi = Matrix(s)\n",
    "    for b in permutations4\n",
    "        if b == a\n",
    "            continue\n",
    "        end \n",
    "        s2 = Permutation(b)\n",
    "        Pi2 = Matrix(s2)\n",
    "        for c in permutations4\n",
    "            s3 = Permutation(c)\n",
    "            Pi3 = Matrix(s3)\n",
    "            if c == a || c == b\n",
    "                continue\n",
    "            end\n",
    "            B = Pi*M*Pi' + Pi2*M*Pi2' + Pi3*M*Pi3' + M\n",
    "            H = g.Graph(B)\n",
    "            bip = g.bipartite_map(H)\n",
    "            if length(bip) == 0\n",
    "                p1_wob += det(x^2*eye(4) - B^2)\n",
    "            end\n",
    "            \n",
    "        end\n",
    "    end\n",
    "end\n",
    "\n",
    "p1_wob_roots = mpRoots(p1_wob) \n",
    "\n",
    "if maximum(abs.(imag.(p1_wob_roots))) > tol\n",
    "    println(\"Expectation NOT real rooted\")\n",
    "    print(p1_wob_roots)\n",
    "else\n",
    "    print(\"Expectation real rooted\")\n",
    "end"
   ]
  },
  {
   "cell_type": "code",
   "execution_count": 8,
   "id": "f7da8b22",
   "metadata": {},
   "outputs": [
    {
     "name": "stdout",
     "output_type": "stream",
     "text": [
      "Expectation real rooted"
     ]
    }
   ],
   "source": [
    "d = 4\n",
    "p1_wob = x*0\n",
    "M = [0 1 0 0; 1 0 0 0; 0 0 0 1; 0 0 1 0]\n",
    "for a in permutations4\n",
    "    s = Permutation(a)\n",
    "    Pi = Matrix(s)\n",
    "    for b in permutations4\n",
    "        if b == a\n",
    "            continue\n",
    "        end \n",
    "        s2 = Permutation(b)\n",
    "        Pi2 = Matrix(s2)\n",
    "        for c in permutations4\n",
    "            s3 = Permutation(c)\n",
    "            Pi3 = Matrix(s3)\n",
    "            if c == a || c == b\n",
    "                continue\n",
    "            end\n",
    "            for d in permutations4\n",
    "                s4 = Permutation(d)\n",
    "                Pi4 = Matrix(s4)\n",
    "                if d == a || d == b || d == c\n",
    "                    continue\n",
    "                end\n",
    "                B = Pi*M*Pi' + Pi2*M*Pi2' + Pi3*M*Pi3' + Pi4*M*Pi4'+ M\n",
    "                H = g.Graph(B)\n",
    "                bip = g.bipartite_map(H)\n",
    "                if length(bip) == 0\n",
    "                    p1_wob += det(x^2*eye(4) - B^2)\n",
    "                end\n",
    "            end\n",
    "            \n",
    "        end\n",
    "    end\n",
    "end\n",
    "\n",
    "p1_wob_roots = mpRoots(p1_wob) \n",
    "\n",
    "if maximum(abs.(imag.(p1_wob_roots))) > tol\n",
    "    println(\"Expectation NOT real rooted\")\n",
    "    print(p1_wob_roots)\n",
    "else\n",
    "    print(\"Expectation real rooted\")\n",
    "end"
   ]
  },
  {
   "cell_type": "markdown",
   "id": "62c49958",
   "metadata": {},
   "source": [
    "## Matching on 6 vertices <a name=\"6\"></a>"
   ]
  },
  {
   "cell_type": "code",
   "execution_count": 9,
   "id": "3c2f5a83",
   "metadata": {},
   "outputs": [
    {
     "name": "stdout",
     "output_type": "stream",
     "text": [
      "Expectation NOT real rooted\n",
      "ComplexF64[-2.0000000680427497 + 0.0im, -1.9999999319572555 + 0.0im, -1.68899193074718 - 0.35305021988545615im, -1.6889919307471792 + 0.35305021988545665im, -0.9697954490881004 + 0.6845089462088264im, -0.969795449088099 - 0.6845089462088253im, 0.9697954490880989 + 0.6845089462088266im, 0.9697954490880993 - 0.6845089462088261im, 1.6889919307471808 + 0.3530502198854586im, 1.6889919307471837 - 0.3530502198854603im, 1.9999998936620222 - 3.794187218815228e-10im, 2.000000106337982 + 3.794181871262905e-10im]"
     ]
    }
   ],
   "source": [
    "@polyvar x\n",
    "a = [1,2,3,4,5,6]\n",
    "permutations6 = perms(a)\n",
    "p2 = x*0\n",
    "M = [0 1 0 0 0 0; 1 0 0 0 0 0; 0 0 0 1 0 0; 0 0 1 0 0 0; 0 0 0 0 0 1; 0 0 0 0 1 0]\n",
    "for a in permutations6\n",
    "    s = Permutation(a)\n",
    "    Pi = Matrix(s)\n",
    "    B = Pi*M*Pi' + M \n",
    "    p2 += det(x^2*eye(6) - B^2) \n",
    "end\n",
    "p2_roots = mpRoots(p2) \n",
    "\n",
    "if maximum(abs.(imag.(p2_roots))) > tol\n",
    "    println(\"Expectation NOT real rooted\")\n",
    "    print(p2_roots)\n",
    "else\n",
    "    print(\"Expectation real rooted\")\n",
    "end\n",
    "\n",
    "\n"
   ]
  },
  {
   "cell_type": "markdown",
   "id": "56197ca7",
   "metadata": {},
   "source": [
    "### Excluding bipartite graphs <a name=\"6exb\"></a>"
   ]
  },
  {
   "cell_type": "code",
   "execution_count": 10,
   "id": "849876cb",
   "metadata": {},
   "outputs": [
    {
     "name": "stdout",
     "output_type": "stream",
     "text": [
      "Expectation NOT real rooted\n",
      "ComplexF64[-3.0000000000000004 - 1.4983674023749671e-16im, -2.173903772880953 - 0.1720027724888396im, -2.173903772880952 + 0.17200277248883952im, -1.369165541947367 + 0.0im, -0.9999999999999946 + 0.0im, -0.5121056174710904 + 0.0im, 0.5121056174710922 + 0.0im, 0.9999999999999875 + 0.0im, 1.3691655419473772 + 0.0im, 2.173903772880949 - 0.1720027724888562im, 2.17390377288095 + 0.1720027724888555im, 3.0000000000000124 + 4.3021142204224816e-16im]"
     ]
    }
   ],
   "source": [
    "n = length(permutations6)\n",
    "p2_wob = x*0\n",
    "M = [0 1 0 0 0 0; 1 0 0 0 0 0; 0 0 0 1 0 0; 0 0 1 0 0 0; 0 0 0 0 0 1; 0 0 0 0 1 0]\n",
    "for i=1:(n-1)\n",
    "    a = permutations6[i]\n",
    "    s = Permutation(a)\n",
    "    Pi = Matrix(s)\n",
    "    for j=(i+1):(n-1)\n",
    "        b = permutations6[j]\n",
    "        s2 = Permutation(b)\n",
    "        Pi2 = Matrix(s2)\n",
    "        B = Pi*M*Pi' + Pi2*M*Pi2' + M\n",
    "        H = g.Graph(B)\n",
    "        a = g.bipartite_map(H)\n",
    "        if length(a) == 0\n",
    "            p2_wob += det(x^2*eye(6) - B^2)\n",
    "        end\n",
    "    end\n",
    "end\n",
    "\n",
    "p2_wob_roots = mpRoots(p2_wob) \n",
    "\n",
    "if maximum(abs.(imag.(p2_wob_roots))) > tol\n",
    "    println(\"Expectation NOT real rooted\")\n",
    "    print(p2_wob_roots)\n",
    "else\n",
    "    print(\"Expectation real rooted\")\n",
    "end"
   ]
  },
  {
   "cell_type": "markdown",
   "id": "4853ba87",
   "metadata": {},
   "source": [
    "### Excluding non-simple graphs <a name=\"6exs\"></a>"
   ]
  },
  {
   "cell_type": "code",
   "execution_count": 11,
   "id": "1437c618",
   "metadata": {},
   "outputs": [
    {
     "name": "stdout",
     "output_type": "stream",
     "text": [
      "Expectation NOT real rooted\n",
      "ComplexF64[-2.9999999999999907 - 5.434474211181006e-16im, -2.5538859397708613 - 3.012913726733129e-16im, -1.1391306999997957 - 0.24245710623052008im, -1.1391306999997952 + 0.24245710623052014im, 1.1391306999997959 - 0.24245710623052147im, 1.1391306999997963 + 0.2424571062305218im, 2.5538859397708586 + 4.267160016190604e-16im, 3.000000000000002 - 2.8622937353617317e-16im, 0.0 + 0.0im, 0.0 + 0.0im, 0.0 + 0.0im, 0.0 + 0.0im]"
     ]
    }
   ],
   "source": [
    "n = length(permutations6)\n",
    "p2_wos = x*0\n",
    "M = [0 1 0 0 0 0; 1 0 0 0 0 0; 0 0 0 1 0 0; 0 0 1 0 0 0; 0 0 0 0 0 1; 0 0 0 0 1 0]\n",
    "for i=1:(n-1)\n",
    "    a = permutations6[i]\n",
    "    s = Permutation(a)\n",
    "    Pi = Matrix(s)\n",
    "    for j=(i+1):(n-1)\n",
    "        b = permutations6[j]\n",
    "        s2 = Permutation(b)\n",
    "        Pi2 = Matrix(s2)\n",
    "        B = Pi*M*Pi' + Pi2*M*Pi2' + M\n",
    "        if any(x-> x > 1, B) # checks if graph is simple or not\n",
    "            continue\n",
    "        end\n",
    "        p2_wos += det(x^2*eye(6) - B^2)\n",
    "    end\n",
    "end\n",
    "\n",
    "p2_wos_roots = mpRoots(p2_wos) \n",
    "\n",
    "if maximum(abs.(imag.(p2_wos_roots))) > tol\n",
    "    println(\"Expectation NOT real rooted\")\n",
    "    print(p2_wos_roots)\n",
    "else\n",
    "    print(\"Expectation real rooted\")\n",
    "end"
   ]
  },
  {
   "cell_type": "markdown",
   "id": "017c3df3",
   "metadata": {},
   "source": [
    "### Excluding non-simple and bipartite graphs <a name=\"6exsb\"></a>"
   ]
  },
  {
   "cell_type": "code",
   "execution_count": 12,
   "id": "962ef8de",
   "metadata": {},
   "outputs": [
    {
     "name": "stdout",
     "output_type": "stream",
     "text": [
      "Expectation real rooted"
     ]
    }
   ],
   "source": [
    "n = length(permutations6)\n",
    "p2_wosb = x*0\n",
    "M = [0 1 0 0 0 0; 1 0 0 0 0 0; 0 0 0 1 0 0; 0 0 1 0 0 0; 0 0 0 0 0 1; 0 0 0 0 1 0]\n",
    "for i=1:(n-1)\n",
    "    a = permutations6[i]\n",
    "    s = Permutation(a)\n",
    "    Pi = Matrix(s)\n",
    "    for j=(i+1):(n-1)\n",
    "        b = permutations6[j]\n",
    "        s2 = Permutation(b)\n",
    "        Pi2 = Matrix(s2)\n",
    "        B = Pi*M*Pi' + Pi2*M*Pi2' + M\n",
    "        if any(x->x > 1, B)\n",
    "            continue\n",
    "        end\n",
    "        H = g.Graph(B)\n",
    "        a = g.bipartite_map(H)\n",
    "        if length(a) == 0\n",
    "            p2_wosb += det(x^2*eye(6) - B^2)\n",
    "        end\n",
    "    end\n",
    "end\n",
    "\n",
    "p2_wosb_roots = mpRoots(p2_wosb) \n",
    "\n",
    "if maximum(abs.(imag.(p2_wosb_roots))) > tol\n",
    "    println(\"Expectation NOT real rooted\")\n",
    "    print(p2_wosb_roots)\n",
    "else\n",
    "    print(\"Expectation real rooted\")\n",
    "end"
   ]
  },
  {
   "cell_type": "code",
   "execution_count": null,
   "id": "c5053be0",
   "metadata": {},
   "outputs": [],
   "source": []
  }
 ],
 "metadata": {
  "kernelspec": {
   "display_name": "Julia 1.7.0",
   "language": "julia",
   "name": "julia-1.7"
  },
  "language_info": {
   "file_extension": ".jl",
   "mimetype": "application/julia",
   "name": "julia",
   "version": "1.7.0"
  }
 },
 "nbformat": 4,
 "nbformat_minor": 5
}
